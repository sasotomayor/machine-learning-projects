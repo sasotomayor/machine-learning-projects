{
 "cells": [
  {
   "cell_type": "code",
   "execution_count": 1,
   "metadata": {},
   "outputs": [],
   "source": [
    "import numpy as np"
   ]
  },
  {
   "attachments": {},
   "cell_type": "markdown",
   "metadata": {},
   "source": [
    "## Cost of clusters"
   ]
  },
  {
   "cell_type": "code",
   "execution_count": 15,
   "metadata": {},
   "outputs": [],
   "source": [
    "x1 = np.array([[-1,2], [-2,1], [-1, 0]]) # Xs cluster 1\n",
    "z1 = np.array([-1,1]) # Representative cluster 1\n",
    "\n",
    "diff_norm1 = np.linalg.norm(x1-z1, axis=1)\n",
    "cost1 = np.power(diff_norm1, 2).sum()"
   ]
  },
  {
   "cell_type": "code",
   "execution_count": 17,
   "metadata": {},
   "outputs": [],
   "source": [
    "x2 = np.array([[2,1], [3,2]])\n",
    "z2 = np.array([2,2])\n",
    "\n",
    "diff_norm2 = np.linalg.norm(x2-z2, axis=1)\n",
    "cost2 = np.power(diff_norm2, 2).sum()"
   ]
  },
  {
   "cell_type": "code",
   "execution_count": 18,
   "metadata": {},
   "outputs": [
    {
     "data": {
      "text/plain": [
       "5.0"
      ]
     },
     "execution_count": 18,
     "metadata": {},
     "output_type": "execute_result"
    }
   ],
   "source": [
    "cost1 + cost2"
   ]
  }
 ],
 "metadata": {
  "kernelspec": {
   "display_name": "micromaster",
   "language": "python",
   "name": "python3"
  },
  "language_info": {
   "codemirror_mode": {
    "name": "ipython",
    "version": 3
   },
   "file_extension": ".py",
   "mimetype": "text/x-python",
   "name": "python",
   "nbconvert_exporter": "python",
   "pygments_lexer": "ipython3",
   "version": "3.10.10"
  },
  "orig_nbformat": 4
 },
 "nbformat": 4,
 "nbformat_minor": 2
}
