{
 "cells": [
  {
   "cell_type": "code",
   "execution_count": 168,
   "metadata": {},
   "outputs": [],
   "source": [
    "import numpy as np\n",
    "import scipy.stats as stats"
   ]
  },
  {
   "attachments": {},
   "cell_type": "markdown",
   "metadata": {},
   "source": [
    "# <b> K-medians & K-medoids"
   ]
  },
  {
   "cell_type": "code",
   "execution_count": 153,
   "metadata": {},
   "outputs": [],
   "source": [
    "Xs = np.array([[0, -6], [4, 4], [0, 0], [-5, 2]])\n",
    "center_0  = np.array([-5, 2])\n",
    "center_1  = np.array([0, -6])\n",
    "\n",
    "assignment = {0: np.nan, 1: np.nan, 2: np.nan, 3: np.nan}"
   ]
  },
  {
   "attachments": {},
   "cell_type": "markdown",
   "metadata": {},
   "source": [
    "#### K-medoids l1-norm"
   ]
  },
  {
   "cell_type": "code",
   "execution_count": 145,
   "metadata": {},
   "outputs": [],
   "source": [
    "def get_medoids_l1(X):\n",
    "    min = {-1: np.inf}\n",
    "    for i in range(len(X)):\n",
    "        cost = 0\n",
    "        for y in X:\n",
    "            if X[i][0] != y[0] or X[i][1] != y[1]:\n",
    "                cost += np.abs(y-X[i]).sum()\n",
    "        if cost < list(min.values())[0]: min = {i: cost}\n",
    "    return X[list(min.keys())[0]]"
   ]
  },
  {
   "cell_type": "code",
   "execution_count": 146,
   "metadata": {},
   "outputs": [
    {
     "name": "stdout",
     "output_type": "stream",
     "text": [
      "[4 4] [ 0 -6]\n",
      "[4 4] [ 0 -6]\n"
     ]
    }
   ],
   "source": [
    "print(center_0, center_1)\n",
    "\n",
    "for i in range(len(Xs)):\n",
    "    cost_c0 = np.abs(Xs[i]-center_0).sum()\n",
    "    cost_c1 = np.abs(Xs[i]-center_1).sum()\n",
    "    #print(Xs[i])\n",
    "    if cost_c0 < cost_c1:\n",
    "        assignment[i] = 0\n",
    "    else:\n",
    "        assignment[i] = 1\n",
    "\n",
    "c0 = [k for k, v in assignment.items() if v == 0]\n",
    "c1 = [k for k, v in assignment.items() if v == 1]\n",
    "\n",
    "c0 = np.array([Xs[i] for i in c0])\n",
    "c1 = np.array([Xs[i] for i in c1])\n",
    "\n",
    "center_0 = get_medoids_l1(c0)\n",
    "center_1 = get_medoids_l1(c1)\n",
    "\n",
    "print(center_0, center_1)"
   ]
  },
  {
   "attachments": {},
   "cell_type": "markdown",
   "metadata": {},
   "source": [
    "#### K-medoids l2-norm"
   ]
  },
  {
   "cell_type": "code",
   "execution_count": 148,
   "metadata": {},
   "outputs": [],
   "source": [
    "def get_medoids_l2(X):\n",
    "    min = {-1: np.inf}\n",
    "    for i in range(len(X)):\n",
    "        cost = 0\n",
    "        for y in X:\n",
    "            if X[i][0] != y[0] or X[i][1] != y[1]:\n",
    "                cost += np.linalg.norm(y-X[i])\n",
    "        if cost < list(min.values())[0]: min = {i: cost}\n",
    "    return X[list(min.keys())[0]]"
   ]
  },
  {
   "cell_type": "code",
   "execution_count": 151,
   "metadata": {},
   "outputs": [
    {
     "name": "stdout",
     "output_type": "stream",
     "text": [
      "[0 0] [ 0 -6]\n",
      "[0 0] [ 0 -6]\n"
     ]
    }
   ],
   "source": [
    "print(center_0, center_1)\n",
    "\n",
    "for i in range(len(Xs)):\n",
    "    cost_c0 = np.linalg.norm(Xs[i]-center_0)\n",
    "    cost_c1 = np.linalg.norm(Xs[i]-center_1)\n",
    "    if cost_c0 < cost_c1:\n",
    "        assignment[i] = 0\n",
    "    else:\n",
    "        assignment[i] = 1\n",
    "\n",
    "c0 = [k for k, v in assignment.items() if v == 0]\n",
    "c1 = [k for k, v in assignment.items() if v == 1]\n",
    "\n",
    "c0 = np.array([Xs[i] for i in c0])\n",
    "c1 = np.array([Xs[i] for i in c1])\n",
    "\n",
    "center_0 = get_medoids_l2(c0)\n",
    "center_1 = get_medoids_l2(c1)\n",
    "\n",
    "print(center_0, center_1)"
   ]
  },
  {
   "attachments": {},
   "cell_type": "markdown",
   "metadata": {},
   "source": [
    "#### K-Medians l1-norm"
   ]
  },
  {
   "cell_type": "code",
   "execution_count": 156,
   "metadata": {},
   "outputs": [
    {
     "name": "stdout",
     "output_type": "stream",
     "text": [
      "[-0.5  3. ] [ 0. -3.]\n",
      "[-0.5  3. ] [ 0. -3.]\n"
     ]
    }
   ],
   "source": [
    "print(center_0, center_1)\n",
    "\n",
    "for i in range(len(Xs)):\n",
    "    if np.abs(Xs[i]-center_0).sum() < np.abs(Xs[i]-center_1).sum():\n",
    "        assignment[i] = 0\n",
    "    else:\n",
    "        assignment[i] = 1\n",
    "\n",
    "c0 = [k for k, v in assignment.items() if v == 0]\n",
    "c1 = [k for k, v in assignment.items() if v == 1]\n",
    "\n",
    "c0 = np.array([Xs[i] for i in c0])\n",
    "c1 = np.array([Xs[i] for i in c1])\n",
    "\n",
    "center_0 = np.array([np.median(c0[:, 0]), np.median(c0[:, 1])])\n",
    "center_1 = np.array([np.median(c1[:, 0]), np.median(c1[:, 1])])\n",
    "\n",
    "print(center_0, center_1)\n"
   ]
  },
  {
   "cell_type": "code",
   "execution_count": 157,
   "metadata": {},
   "outputs": [
    {
     "data": {
      "text/plain": [
       "{0: 1, 1: 0, 2: 1, 3: 0}"
      ]
     },
     "execution_count": 157,
     "metadata": {},
     "output_type": "execute_result"
    }
   ],
   "source": [
    "assignment"
   ]
  },
  {
   "attachments": {},
   "cell_type": "markdown",
   "metadata": {},
   "source": [
    "# <b> Maximum Likelihood Estimation"
   ]
  },
  {
   "cell_type": "code",
   "execution_count": 159,
   "metadata": {},
   "outputs": [],
   "source": [
    "sequence = ['A', 'B', 'A', 'B', 'B', 'C', 'A', 'B', 'A', 'A', 'B', 'C', 'A', 'C']"
   ]
  },
  {
   "cell_type": "code",
   "execution_count": 160,
   "metadata": {},
   "outputs": [
    {
     "name": "stdout",
     "output_type": "stream",
     "text": [
      "0.42857142857142855 0.35714285714285715 0.21428571428571427\n"
     ]
    }
   ],
   "source": [
    "As, Bs, Cs = 0, 0, 0\n",
    "for char in sequence:\n",
    "    if char == 'A': As += 1\n",
    "    elif char == 'B': Bs += 1\n",
    "    else: Cs += 1\n",
    "\n",
    "theta_A = As/(len(sequence))\n",
    "theta_B = Bs/(len(sequence))\n",
    "theta_C = Cs/(len(sequence))\n",
    "print(theta_A, theta_B, theta_C)"
   ]
  },
  {
   "cell_type": "code",
   "execution_count": 161,
   "metadata": {},
   "outputs": [
    {
     "name": "stdout",
     "output_type": "stream",
     "text": [
      "0.03279883381924198\n",
      "0.04555393586005831\n",
      "0.05466472303206997\n",
      "0.039358600583090375\n"
     ]
    }
   ],
   "source": [
    "print(theta_A*theta_B*theta_C)\n",
    "print(theta_B*theta_B*theta_B)\n",
    "print(theta_A*theta_B*theta_B)\n",
    "print(theta_A*theta_A*theta_C)"
   ]
  },
  {
   "cell_type": "code",
   "execution_count": 163,
   "metadata": {},
   "outputs": [],
   "source": [
    "ABs, BAs, ACs, CAs, BCs, CBs = 0, 0, 0, 0, 0, 0\n",
    "for i in range(len(sequence) - 1):\n",
    "    if sequence[i: i+2] == ['A', 'B']: ABs += 1\n",
    "    elif sequence[i: i+2] == ['B', 'A']: BAs += 1\n",
    "    elif sequence[i: i+2] == ['A', 'C']: ACs += 1\n",
    "    elif sequence[i: i+2] == ['C', 'A']: CAs += 1\n",
    "    elif sequence[i: i+2] == ['B', 'C']: BCs += 1\n",
    "    else: CBs += 1\n",
    "\n",
    "theta_AB = ABs/(ABs + BAs + ACs + CAs + BCs + CBs)\n",
    "theta_BA = BAs/(ABs + BAs + ACs + CAs + BCs + CBs)\n",
    "theta_AC = ACs/(ABs + BAs + ACs + CAs + BCs + CBs)\n",
    "theta_CA = CAs/(ABs + BAs + ACs + CAs + BCs + CBs)\n",
    "theta_BC = BCs/(ABs + BAs + ACs + CAs + BCs + CBs)\n",
    "theta_CB = CBs/(ABs + BAs + ACs + CAs + BCs + CBs)"
   ]
  },
  {
   "cell_type": "code",
   "execution_count": 165,
   "metadata": {},
   "outputs": [
    {
     "data": {
      "text/plain": [
       "1.7679036674816295e-05"
      ]
     },
     "execution_count": 165,
     "metadata": {},
     "output_type": "execute_result"
    }
   ],
   "source": [
    "ev_seq = ['A', 'A', 'B', 'C', 'B', 'A', 'B']\n",
    "\n",
    "mle = 1/3\n",
    "for i in range(len(ev_seq)-1):\n",
    "    if sequence[i: i+2] == ['A', 'B']: mle = mle*theta_AB\n",
    "    elif sequence[i: i+2] == ['B', 'A']: mle = mle*theta_BA\n",
    "    elif sequence[i: i+2] == ['A', 'C']: mle = mle*theta_AC\n",
    "    elif sequence[i: i+2] == ['C', 'A']: mle = mle*theta_CA\n",
    "    elif sequence[i: i+2] == ['B', 'C']: mle = mle*theta_BC\n",
    "    else: mle = mle*theta_CB\n",
    "\n",
    "mle"
   ]
  },
  {
   "attachments": {},
   "cell_type": "markdown",
   "metadata": {},
   "source": [
    "# <b> EM Algorithm"
   ]
  },
  {
   "cell_type": "code",
   "execution_count": 167,
   "metadata": {},
   "outputs": [],
   "source": [
    "Xs = np.array([1, 0, 4, 5, 6])\n",
    "\n",
    "pi1, pi2 = 0.5, 0.5\n",
    "mu1, mu2 = 6, 7\n",
    "sigma_sq1, sigma_sq2 = 1, 4"
   ]
  },
  {
   "cell_type": "code",
   "execution_count": 170,
   "metadata": {},
   "outputs": [],
   "source": [
    "def probability(x):\n",
    "    first_comp = pi1 * stats.norm.pdf(x, loc=mu1, scale=np.sqrt(sigma_sq1))\n",
    "    sec_comp = pi2 * stats.norm.pdf(x, loc=mu2, scale=np.sqrt(sigma_sq2))\n",
    "    return first_comp + sec_comp"
   ]
  },
  {
   "cell_type": "code",
   "execution_count": 175,
   "metadata": {},
   "outputs": [
    {
     "name": "stdout",
     "output_type": "stream",
     "text": [
      "[6.70475417e-04 1.39244156e-05 4.54661673e-01 6.66666667e-01\n",
      " 6.93842896e-01]\n",
      "[0.99932952 0.99998608 0.54533833 0.33333333 0.3061571 ]\n"
     ]
    }
   ],
   "source": [
    "P1 = np.array([])\n",
    "P2 = np.array([])\n",
    "\n",
    "for x in Xs:\n",
    "    px1 = stats.norm.pdf(x, loc=mu1, scale=np.sqrt(sigma_sq1))\n",
    "    px2 = stats.norm.pdf(x, loc=mu2, scale=np.sqrt(sigma_sq2))\n",
    "    P1 = np.append(P1, pi1*px1/(pi1*px1 + pi2*px2))\n",
    "    P2 = np.append(P2, pi2*px2/(pi1*px1 + pi2*px2))\n",
    "\n",
    "print(P1)\n",
    "print(P2)"
   ]
  },
  {
   "cell_type": "code",
   "execution_count": 178,
   "metadata": {},
   "outputs": [
    {
     "data": {
      "text/plain": [
       "-21.011861766312663"
      ]
     },
     "execution_count": 178,
     "metadata": {},
     "output_type": "execute_result"
    }
   ],
   "source": [
    "prob = 0\n",
    "for x in Xs:\n",
    "    prob += np.log(probability(x))\n",
    "prob"
   ]
  },
  {
   "cell_type": "code",
   "execution_count": 181,
   "metadata": {},
   "outputs": [
    {
     "name": "stdout",
     "output_type": "stream",
     "text": [
      "3.999877500216529 6 1.4115827748726617 7\n"
     ]
    }
   ],
   "source": [
    "new_mu1 = (P1[1]*Xs[1] + P1[2]*Xs[2])/(P1[1] + P1[2])\n",
    "new_mu2 = (P2[1]*Xs[1] + P2[2]*Xs[2])/(P2[1] + P2[2])\n",
    "print(new_mu1, mu1, new_mu2, mu2)"
   ]
  },
  {
   "cell_type": "code",
   "execution_count": 185,
   "metadata": {},
   "outputs": [
    {
     "name": "stdout",
     "output_type": "stream",
     "text": [
      "0.0004899841276865353 1 3.653765169173443 4\n"
     ]
    }
   ],
   "source": [
    "new_var1 = (P1[1]*np.power(Xs[1] - new_mu1, 2) + P1[2]*np.power(Xs[2] - new_mu1, 2))/(P1[1] + P1[2])\n",
    "new_var2 = (P2[1]*np.power(Xs[1] - new_mu2, 2) + P2[2]*np.power(Xs[2] - new_mu2, 2))/(P2[1] + P2[2])\n",
    "print(new_var1, sigma_sq1, new_var2, sigma_sq2)"
   ]
  },
  {
   "cell_type": "code",
   "execution_count": null,
   "metadata": {},
   "outputs": [],
   "source": []
  }
 ],
 "metadata": {
  "kernelspec": {
   "display_name": "micromaster",
   "language": "python",
   "name": "python3"
  },
  "language_info": {
   "codemirror_mode": {
    "name": "ipython",
    "version": 3
   },
   "file_extension": ".py",
   "mimetype": "text/x-python",
   "name": "python",
   "nbconvert_exporter": "python",
   "pygments_lexer": "ipython3",
   "version": "3.10.10"
  },
  "orig_nbformat": 4
 },
 "nbformat": 4,
 "nbformat_minor": 2
}
