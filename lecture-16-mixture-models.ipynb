{
 "cells": [
  {
   "cell_type": "code",
   "execution_count": 3,
   "metadata": {},
   "outputs": [],
   "source": [
    "import numpy as np\n",
    "import scipy.stats as stats"
   ]
  },
  {
   "attachments": {},
   "cell_type": "markdown",
   "metadata": {},
   "source": [
    "## Observed Case"
   ]
  },
  {
   "cell_type": "code",
   "execution_count": 8,
   "metadata": {},
   "outputs": [
    {
     "name": "stdout",
     "output_type": "stream",
     "text": [
      "[-1. -1.] [1. 1.]\n"
     ]
    }
   ],
   "source": [
    "x1 = np.array([[-1.2, -0.8], [-1, -1.2], [-0.8, -1]]) # Xs cluster 1\n",
    "x2 = np.array([[1.2, 0.8], [1, 1.2], [0.8, 1]]) # Xs cluster 2\n",
    "\n",
    "u1 = x1.sum(axis=0)/x1.shape[0]\n",
    "u2 = x2.sum(axis=0)/x2.shape[0]\n",
    "\n",
    "print(u1, u2)"
   ]
  },
  {
   "attachments": {},
   "cell_type": "markdown",
   "metadata": {},
   "source": [
    "## Unobserved Case"
   ]
  },
  {
   "cell_type": "code",
   "execution_count": 55,
   "metadata": {},
   "outputs": [],
   "source": [
    "u1, u2 = -3, 2\n",
    "sigma_sq1, sigma_sq2 = 4, 4\n",
    "p1, p2 = 0.5, 0.5\n",
    "\n",
    "Xs = np.array([0.2, -0.9, -1, 1.2, 1.8])\n"
   ]
  },
  {
   "cell_type": "code",
   "execution_count": 56,
   "metadata": {},
   "outputs": [
    {
     "data": {
      "text/plain": [
       "array([0.29421497, 0.62245933, 0.65135486, 0.10669059, 0.05340333])"
      ]
     },
     "execution_count": 56,
     "metadata": {},
     "output_type": "execute_result"
    }
   ],
   "source": [
    "P1 = np.array([])\n",
    "P2 = np.array([])\n",
    "\n",
    "for x in Xs:\n",
    "    px1 = stats.norm.pdf(x, loc=u1, scale=np.sqrt(sigma_sq1))\n",
    "    px2 = stats.norm.pdf(x, loc=u2, scale=np.sqrt(sigma_sq2))\n",
    "    P1 = np.append(P1, p1*px1/(p1*px1 + p2*px2))\n",
    "    P2 = np.append(P2, p2*px2/(p1*px1 + p2*px2))\n",
    "\n",
    "P1"
   ]
  },
  {
   "cell_type": "code",
   "execution_count": 67,
   "metadata": {},
   "outputs": [
    {
     "name": "stdout",
     "output_type": "stream",
     "text": [
      "0.3456246183552746 -0.5373289474340417 0.5757859076870628\n"
     ]
    }
   ],
   "source": [
    "updated_p1 = sum(P1)/len(Xs)\n",
    "updated_u1 = (P1*Xs).sum()/P1.sum()\n",
    "updated_sigma_sq1 = (np.power(Xs - updated_u1, 2)*P1).sum()/P1.sum()\n",
    "print(updated_p1, updated_u1, updated_sigma_sq1)"
   ]
  }
 ],
 "metadata": {
  "kernelspec": {
   "display_name": "micromaster",
   "language": "python",
   "name": "python3"
  },
  "language_info": {
   "codemirror_mode": {
    "name": "ipython",
    "version": 3
   },
   "file_extension": ".py",
   "mimetype": "text/x-python",
   "name": "python",
   "nbconvert_exporter": "python",
   "pygments_lexer": "ipython3",
   "version": "3.10.10"
  },
  "orig_nbformat": 4
 },
 "nbformat": 4,
 "nbformat_minor": 2
}
