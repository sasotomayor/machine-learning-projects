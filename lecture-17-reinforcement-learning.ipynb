{
 "cells": [
  {
   "cell_type": "code",
   "execution_count": 2,
   "metadata": {},
   "outputs": [],
   "source": [
    "import numpy as np"
   ]
  },
  {
   "cell_type": "code",
   "execution_count": 21,
   "metadata": {},
   "outputs": [],
   "source": [
    "S = np.arange(6)\n",
    "A = np.arange(2)\n",
    "T = np.array(\n",
    "        [[[1,0,0,0,0,0],\n",
    "        [1,0,0,0,0,0],\n",
    "        [0,1,0,0,0,0],\n",
    "        [0,0,1,0,0,0],\n",
    "        [0,0,0,1,0,0],\n",
    "        [0,0,0,0,1,0]],\n",
    "        [[1,0,0,0,0,0],\n",
    "        [0,0.3,0,0.7,0,0],\n",
    "        [0,0,0.3,0,0.7,0],\n",
    "        [0,0,0,0.3,0,0.7],\n",
    "        [0,0,0,0,1,0],\n",
    "        [0,0,0,0,0,1]]]\n",
    "        )\n",
    "\n",
    "R = np.array([[[np.power(np.abs(i - j), 1/3) if i != j else np.power(i + 4, -0.5) if i != 0 else 0 for i in S] for j in S] for _ in A])\n",
    "Q_0 = np.array([[0 for _ in S] for _ in A])\n",
    "gamma = 0.6"
   ]
  },
  {
   "cell_type": "code",
   "execution_count": 22,
   "metadata": {},
   "outputs": [],
   "source": [
    "def q_iteration(T, S, R, gamma, Q_k, A):\n",
    "    return np.array([\n",
    "        [sum(T[a, i, j]*(R[a, i, j] + gamma*Q_k[:,j].max()) for j in S) for i in S] for a in A \n",
    "    ])"
   ]
  },
  {
   "cell_type": "code",
   "execution_count": 23,
   "metadata": {},
   "outputs": [
    {
     "data": {
      "text/plain": [
       "array([[0.        , 1.        , 1.        , 1.        , 1.        ,\n",
       "        1.        ],\n",
       "       [0.        , 1.01610881, 1.00441922, 0.99533408, 0.35355339,\n",
       "        0.33333333]])"
      ]
     },
     "execution_count": 23,
     "metadata": {},
     "output_type": "execute_result"
    }
   ],
   "source": [
    "q_iteration(T, S, R, gamma, Q_0, A)"
   ]
  },
  {
   "cell_type": "code",
   "execution_count": null,
   "metadata": {},
   "outputs": [],
   "source": [
    "S = np.arange(11)\n",
    "A = np.arange(4)\n",
    "T = np.array(\n",
    "        [[[0,0,0,0,0,0,0,0,0,0,0],\n",
    "        [1,0,0,0,0,0,0,0,0,0,0],\n",
    "        [0,1,0,0,0,0,0,0,0,0,0],\n",
    "        [0,0,1,0,0,0,0,0,0,0,0],\n",
    "        [0,0,0,1,0,0,0,0,0,0,0],\n",
    "        [0,0,0,0,1,0,0,0,0,0,0]],\n",
    "        [[1,0,0,0,0,0,0,0,0,0,0],\n",
    "        [1,0,0,0,0,0,0,0,0,0,0],\n",
    "        [0,1,0,0,0,0,0,0,0,0,0],\n",
    "        [0,0,1,0,0,0,0,0,0,0,0],\n",
    "        [0,0,0,1,0,0,0,0,0,0,0],\n",
    "        [0,0,0,0,1,0,0,0,0,0,0]],\n",
    "        [[1,0,0,0,0,0,0,0,0,0,0],\n",
    "        [1,0,0,0,0,0,0,0,0,0,0],\n",
    "        [0,1,0,0,0,0,0,0,0,0,0],\n",
    "        [0,0,1,0,0,0,0,0,0,0,0],\n",
    "        [0,0,0,1,0,0,0,0,0,0,0],\n",
    "        [0,0,0,0,1,0,0,0,0,0,0]],\n",
    "        [[1,0,0,0,0,0,0,0,0,0,0],\n",
    "        [1,0,0,0,0,0,0,0,0,0,0],\n",
    "        [0,1,0,0,0,0,0,0,0,0,0],\n",
    "        [0,0,1,0,0,0,0,0,0,0,0],\n",
    "        [0,0,0,1,0,0,0,0,0,0,0],\n",
    "        [0,0,0,0,1,0,0,0,0,0,0]]]\n",
    "        )\n",
    "\n",
    "R = np.array([[[np.power(np.abs(i - j), 1/3) if i != j else np.power(i + 4, -0.5) if i != 0 else 0 for i in S] for j in S] for _ in A])\n",
    "Q_0 = np.array([[0 for _ in S] for _ in A])\n",
    "gamma = 0.6"
   ]
  }
 ],
 "metadata": {
  "kernelspec": {
   "display_name": "micromaster",
   "language": "python",
   "name": "python3"
  },
  "language_info": {
   "codemirror_mode": {
    "name": "ipython",
    "version": 3
   },
   "file_extension": ".py",
   "mimetype": "text/x-python",
   "name": "python",
   "nbconvert_exporter": "python",
   "pygments_lexer": "ipython3",
   "version": "3.10.10"
  },
  "orig_nbformat": 4
 },
 "nbformat": 4,
 "nbformat_minor": 2
}
